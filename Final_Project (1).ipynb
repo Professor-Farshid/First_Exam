{
 "cells": [
  {
   "cell_type": "markdown",
   "id": "bb9dee5b",
   "metadata": {},
   "source": [
    "# NoteBook"
   ]
  },
  {
   "cell_type": "code",
   "execution_count": null,
   "id": "67e3e360",
   "metadata": {},
   "outputs": [],
   "source": []
  },
  {
   "cell_type": "markdown",
   "id": "7fdd8eb2",
   "metadata": {},
   "source": [
    "Python\n",
    "R\n",
    "Jupyter"
   ]
  },
  {
   "cell_type": "markdown",
   "id": "e84f8f10",
   "metadata": {},
   "source": [
    "Numpy\n",
    "SciPy\n",
    "Pandas\n",
    "TensorFlow"
   ]
  },
  {
   "cell_type": "raw",
   "id": "62ebb690",
   "metadata": {},
   "source": [
    "R\n",
    "Excell\n",
    "Python"
   ]
  },
  {
   "cell_type": "markdown",
   "id": "27deae18",
   "metadata": {},
   "source": [
    "a = 10\n",
    "b = 12"
   ]
  },
  {
   "cell_type": "code",
   "execution_count": null,
   "id": "c3a1d8da",
   "metadata": {},
   "outputs": [],
   "source": [
    "c = a + b\n",
    "d = a * b"
   ]
  },
  {
   "cell_type": "code",
   "execution_count": 10,
   "id": "5726047b",
   "metadata": {},
   "outputs": [
    {
     "name": "stdout",
     "output_type": "stream",
     "text": [
      "2 : 20\n"
     ]
    }
   ],
   "source": [
    "minute = 140\n",
    "con = 60\n",
    "Hour : int\n",
    "if minute > 60 :\n",
    "    Hour = minute // 60\n",
    "    minute = minute % 60\n",
    "else : Hour = 0 \n",
    "\n",
    "print (Hour, \":\", minute)"
   ]
  },
  {
   "cell_type": "markdown",
   "id": "7042ae80",
   "metadata": {},
   "source": [
    "Employee\n",
    "Car\n",
    "People\n",
    "Student\n",
    "University"
   ]
  },
  {
   "cell_type": "markdown",
   "id": "522ea8b9",
   "metadata": {},
   "source": [
    "Author's : Farshid Khodayari"
   ]
  }
 ],
 "metadata": {
  "kernelspec": {
   "display_name": "Python 3 (ipykernel)",
   "language": "python",
   "name": "python3"
  },
  "language_info": {
   "codemirror_mode": {
    "name": "ipython",
    "version": 3
   },
   "file_extension": ".py",
   "mimetype": "text/x-python",
   "name": "python",
   "nbconvert_exporter": "python",
   "pygments_lexer": "ipython3",
   "version": "3.11.5"
  }
 },
 "nbformat": 4,
 "nbformat_minor": 5
}
